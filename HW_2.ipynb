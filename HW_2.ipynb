{
  "nbformat": 4,
  "nbformat_minor": 0,
  "metadata": {
    "colab": {
      "name": "hw3_v1.ipynb",
      "provenance": []
    },
    "kernelspec": {
      "display_name": "Python 3",
      "language": "python",
      "name": "python3"
    },
    "language_info": {
      "codemirror_mode": {
        "name": "ipython",
        "version": 3
      },
      "file_extension": ".py",
      "mimetype": "text/x-python",
      "name": "python",
      "nbconvert_exporter": "python",
      "pygments_lexer": "ipython3",
      "version": "3.8.8"
    }
  },
  "cells": [
    {
      "cell_type": "markdown",
      "metadata": {
        "id": "Ybig9CAst6-C"
      },
      "source": [
        " "
      ]
    },
    {
      "cell_type": "markdown",
      "metadata": {
        "id": "CeaIYXYRt6-E"
      },
      "source": [
        "# Группа MADE-ML-22. Завадский Вадим."
      ]
    },
    {
      "cell_type": "markdown",
      "metadata": {
        "id": "RXkMM2Sht6-E"
      },
      "source": [
        " "
      ]
    },
    {
      "cell_type": "code",
      "metadata": {
        "id": "1-v42h1mKuTa"
      },
      "source": [
        "import pandas as pd\n",
        "import numpy as np\n",
        "import json, pickle\n",
        "import collections\n",
        "from sklearn import linear_model\n",
        "from scipy.stats import spearmanr, kendalltau\n",
        "from scipy.sparse import csr_matrix\n",
        "from scipy.special import expit, logit"
      ],
      "execution_count": null,
      "outputs": []
    },
    {
      "cell_type": "code",
      "metadata": {
        "id": "Ktep51yeKuTi"
      },
      "source": [
        "with open('D:/MADE 2020/Advanced ML/chgk/results.pkl', 'rb') as file:\n",
        "    results = pickle.load(file)\n",
        "with open('D:/MADE 2020/Advanced ML/chgk/tournaments.pkl', 'rb') as file:\n",
        "    tournaments = pickle.load(file)\n",
        "with open('D:/MADE 2020/Advanced ML/chgk/players.pkl', 'rb') as file:\n",
        "    players = pickle.load(file)"
      ],
      "execution_count": null,
      "outputs": []
    },
    {
      "cell_type": "markdown",
      "metadata": {
        "id": "IaVq9uSmKuTj"
      },
      "source": [
        "# 1. Подготовка данных"
      ]
    },
    {
      "cell_type": "code",
      "metadata": {
        "id": "XL8AEZpDt6-H",
        "outputId": "9af7a63b-e4da-4af2-8a2d-70bf377a8018"
      },
      "source": [
        "results[1][0]"
      ],
      "execution_count": null,
      "outputs": [
        {
          "output_type": "execute_result",
          "data": {
            "text/plain": [
              "{'team': {'id': 242,\n",
              "  'name': 'Команда Азимова',\n",
              "  'town': {'id': 21, 'name': 'Баку'}},\n",
              " 'mask': None,\n",
              " 'current': {'name': 'Команда Азимова', 'town': {'id': 21, 'name': 'Баку'}},\n",
              " 'questionsTotal': 0,\n",
              " 'synchRequest': None,\n",
              " 'position': 1,\n",
              " 'controversials': [],\n",
              " 'flags': [],\n",
              " 'teamMembers': [{'flag': None,\n",
              "   'usedRating': 0,\n",
              "   'rating': 0,\n",
              "   'player': {'id': 476,\n",
              "    'name': 'Анар',\n",
              "    'patronymic': 'Беюкага оглы',\n",
              "    'surname': 'Азимов'}},\n",
              "  {'flag': None,\n",
              "   'usedRating': 0,\n",
              "   'rating': 0,\n",
              "   'player': {'id': 878,\n",
              "    'name': 'Фариз',\n",
              "    'patronymic': 'Наим оглы',\n",
              "    'surname': 'Аликишибеков'}},\n",
              "  {'flag': None,\n",
              "   'usedRating': 0,\n",
              "   'rating': 0,\n",
              "   'player': {'id': 1872,\n",
              "    'name': 'Аднан',\n",
              "    'patronymic': 'Фариз оглы',\n",
              "    'surname': 'Ахундов'}},\n",
              "  {'flag': None,\n",
              "   'usedRating': 0,\n",
              "   'rating': 0,\n",
              "   'player': {'id': 13721,\n",
              "    'name': 'Балаш',\n",
              "    'patronymic': 'Алекпер оглы',\n",
              "    'surname': 'Касумов'}},\n",
              "  {'flag': None,\n",
              "   'usedRating': 0,\n",
              "   'rating': 0,\n",
              "   'player': {'id': 22132,\n",
              "    'name': 'Анар',\n",
              "    'patronymic': 'Джафар оглы',\n",
              "    'surname': 'Наджафли'}},\n",
              "  {'flag': None,\n",
              "   'usedRating': 0,\n",
              "   'rating': 0,\n",
              "   'player': {'id': 22133,\n",
              "    'name': 'Рауф',\n",
              "    'patronymic': 'Джафар оглы',\n",
              "    'surname': 'Наджафли'}}]}"
            ]
          },
          "metadata": {
            "tags": []
          },
          "execution_count": 11
        }
      ]
    },
    {
      "cell_type": "code",
      "metadata": {
        "id": "WDHEP4Itt6-I",
        "outputId": "9bac2701-97f1-4e65-ff29-be344cd9be20"
      },
      "source": [
        "tournaments[1]"
      ],
      "execution_count": null,
      "outputs": [
        {
          "output_type": "execute_result",
          "data": {
            "text/plain": [
              "{'id': 1,\n",
              " 'name': 'Чемпионат Южного Кавказа',\n",
              " 'dateStart': '2003-07-25T00:00:00+04:00',\n",
              " 'dateEnd': '2003-07-27T00:00:00+04:00',\n",
              " 'type': {'id': 2, 'name': 'Обычный'},\n",
              " 'season': '/seasons/1',\n",
              " 'orgcommittee': [],\n",
              " 'synchData': None,\n",
              " 'questionQty': None}"
            ]
          },
          "metadata": {
            "tags": []
          },
          "execution_count": 12
        }
      ]
    },
    {
      "cell_type": "code",
      "metadata": {
        "id": "rqgJgEv0t6-I",
        "outputId": "27594d9f-e854-40df-92c5-26a9a03b3616"
      },
      "source": [
        "for i in sorted(list(players.keys())[1:10]):\n",
        "    print(players[i])"
      ],
      "execution_count": null,
      "outputs": [
        {
          "output_type": "stream",
          "text": [
            "{'id': 10, 'name': 'Игорь', 'patronymic': '', 'surname': 'Абалов'}\n",
            "{'id': 11, 'name': 'Наталья', 'patronymic': 'Юрьевна', 'surname': 'Абалымова'}\n",
            "{'id': 12, 'name': 'Артур', 'patronymic': 'Евгеньевич', 'surname': 'Абальян'}\n",
            "{'id': 13, 'name': 'Эрик', 'patronymic': 'Евгеньевич', 'surname': 'Абальян'}\n",
            "{'id': 14, 'name': 'Василий', 'patronymic': '', 'surname': 'Абанин'}\n",
            "{'id': 15, 'name': 'Олег', 'patronymic': 'Игоревич', 'surname': 'Абарников'}\n",
            "{'id': 16, 'name': 'Азер', 'patronymic': 'Абасали оглы', 'surname': 'Абасалиев'}\n",
            "{'id': 17, 'name': 'А.', 'patronymic': 'В.', 'surname': 'Абасев'}\n",
            "{'id': 18, 'name': 'Гияс', 'patronymic': '', 'surname': 'Аббасханов'}\n"
          ],
          "name": "stdout"
        }
      ]
    },
    {
      "cell_type": "markdown",
      "metadata": {
        "id": "7ePUY72jt6-I"
      },
      "source": [
        " "
      ]
    },
    {
      "cell_type": "markdown",
      "metadata": {
        "id": "SSOlyBv1t6-J"
      },
      "source": [
        "В качестве тренировочного набора будем использовать данные за 2019 год, а для тестового за 2020"
      ]
    },
    {
      "cell_type": "code",
      "metadata": {
        "id": "KrX9t9ICt6-J"
      },
      "source": [
        "data_prepeared = {2019: {},\n",
        "                   2020: {}}\n",
        "num_of_question = collections.Counter()"
      ],
      "execution_count": null,
      "outputs": []
    },
    {
      "cell_type": "code",
      "metadata": {
        "id": "MN692wLRt6-J"
      },
      "source": [
        "for k in tournaments.keys():\n",
        "    tournament = tournaments[k]\n",
        "    year = int(tournament['dateStart'][:4])\n",
        "\n",
        "    try:\n",
        "        questionQty = sum(tournament.get('questionQty').values())\n",
        "    except BaseException:\n",
        "        questionQty = 0\n",
        "\n",
        "    if year in data_prepeared.keys():\n",
        "        teamQty = 0\n",
        "        result = {}\n",
        "        answerQty = np.array([0] * questionQty)\n",
        "\n",
        "        for team in results[k]:\n",
        "            mask = team.get('mask')\n",
        "\n",
        "            try:\n",
        "                if len(mask) == questionQty:\n",
        "                    teamQty += 1\n",
        "\n",
        "                    mask = mask.replace('X', '0')\n",
        "                    mask = mask.replace('?', '0')\n",
        "                    mask = np.array([int(p) for p in mask])\n",
        "                    answerQty += mask\n",
        "                    result[team['team']['id']] = {'answer': sum(mask), 'position': team['position'],\n",
        "                                                  'mask': mask, 'players': [p['player']['id'] for p in team['teamMembers']]}\n",
        "            except BaseException:\n",
        "                continue\n",
        "\n",
        "        data_prepeared[year][k] = {'name': tournament['name'],\n",
        "                                        'questionQty': questionQty,\n",
        "                                        'answerQty': answerQty,\n",
        "                                        'teamQty': teamQty,\n",
        "                                        'result': result}\n",
        "    elif year < 2019:\n",
        "        for team in results[k]:\n",
        "            mask = team.get('mask')\n",
        "            try:\n",
        "                if len(mask) == questionQty:\n",
        "                    for i in [p['player']['id'] for p in team['teamMembers']]:\n",
        "                        num_of_question[i] += questionQty\n",
        "            except BaseException:\n",
        "                continue"
      ],
      "execution_count": null,
      "outputs": []
    },
    {
      "cell_type": "code",
      "metadata": {
        "id": "Nb3LK27rt6-K"
      },
      "source": [
        "del tournaments"
      ],
      "execution_count": null,
      "outputs": []
    },
    {
      "cell_type": "code",
      "metadata": {
        "id": "3dBzeJhEt6-L"
      },
      "source": [
        "del results"
      ],
      "execution_count": null,
      "outputs": []
    },
    {
      "cell_type": "code",
      "metadata": {
        "id": "uyVZY8uot6-L"
      },
      "source": [
        "def get_dataframe(data, num_of_question):\n",
        "    result = {'tourney id': [],\n",
        "              'team id': [],\n",
        "              'player id': [],\n",
        "              'questions played': [],\n",
        "              'question number': [],\n",
        "              'question id': [],\n",
        "              'true position': [],\n",
        "              'result': []}\n",
        "\n",
        "    ttl_question = 0\n",
        "    new_question = collections.Counter()\n",
        "\n",
        "    for tourney_id, tourney in data.items():\n",
        "        questionQty = tourney['questionQty']\n",
        "        question_number = list(range(questionQty))\n",
        "        question_id = list(np.array(question_number) + ttl_question)\n",
        "        ttl_question += questionQty\n",
        "\n",
        "        for team_id, team in tourney['result'].items():\n",
        "            playersQty = len(team['players'])\n",
        "            result['tourney id'].extend([tourney_id] * playersQty * questionQty)\n",
        "            result['team id'].extend([team_id] * playersQty * questionQty)\n",
        "            result['result'].extend(list(team['mask']) * playersQty)\n",
        "            result['question number'].extend(question_number * playersQty)\n",
        "            result['question id'].extend(question_id * playersQty)\n",
        "            result['true position'].extend([team['position']] * playersQty * questionQty)\n",
        "\n",
        "            for player_id in team['players']:\n",
        "                questions_played = list(num_of_question[player_id] + new_question[player_id]\n",
        "                                        + np.array(question_number))\n",
        "\n",
        "                result['player id'].extend([player_id] * questionQty)\n",
        "                result['questions played'].extend(questions_played)\n",
        "\n",
        "    return pd.DataFrame(result)"
      ],
      "execution_count": null,
      "outputs": []
    },
    {
      "cell_type": "code",
      "metadata": {
        "id": "OJIy7TULt6-M"
      },
      "source": [
        "def get_answer(data):\n",
        "    answer = collections.Counter()\n",
        "    for tourney_id, tourney in data.items():\n",
        "        for team_id, team in tourney['result'].items():\n",
        "\n",
        "            for player_id in team['players']:\n",
        "\n",
        "                answer[player_id] += team['answer']\n",
        "\n",
        "    return answer"
      ],
      "execution_count": null,
      "outputs": []
    },
    {
      "cell_type": "code",
      "metadata": {
        "id": "kQno9VROt6-M"
      },
      "source": [
        "def get_question(data):\n",
        "    new_question = collections.Counter()\n",
        "    for tourney_id, tourney in data.items():\n",
        "        questionQty = tourney['questionQty']\n",
        "        for team_id, team in tourney['result'].items():\n",
        "            for player_id in team['players']:\n",
        "                new_question[player_id] += questionQty\n",
        "    return new_question"
      ],
      "execution_count": null,
      "outputs": []
    },
    {
      "cell_type": "code",
      "metadata": {
        "id": "xhc_Rjdgt6-M"
      },
      "source": [
        "answer_train = get_answer(data_prepeared[2019])"
      ],
      "execution_count": null,
      "outputs": []
    },
    {
      "cell_type": "code",
      "metadata": {
        "id": "1BNWcJaDt6-N"
      },
      "source": [
        "question_train = get_question(data_prepeared[2019])"
      ],
      "execution_count": null,
      "outputs": []
    },
    {
      "cell_type": "code",
      "metadata": {
        "id": "Akoa3CnAt6-N"
      },
      "source": [
        "data_train = get_dataframe(data_prepeared[2019], num_of_question)"
      ],
      "execution_count": null,
      "outputs": []
    },
    {
      "cell_type": "code",
      "metadata": {
        "id": "O_vXdL0it6-N"
      },
      "source": [
        "data_test = get_dataframe(data_prepeared[2020], num_of_question + question_2019)"
      ],
      "execution_count": null,
      "outputs": []
    },
    {
      "cell_type": "code",
      "metadata": {
        "id": "GgQDcvjdt6-N"
      },
      "source": [
        "answer_test = get_answer(data_prepeared[2020])"
      ],
      "execution_count": null,
      "outputs": []
    },
    {
      "cell_type": "code",
      "metadata": {
        "id": "HOLBMWjJt6-O"
      },
      "source": [
        "question_test = get_question(data_prepeared[2020])"
      ],
      "execution_count": null,
      "outputs": []
    },
    {
      "cell_type": "code",
      "metadata": {
        "id": "bT1CbNFCKuTn",
        "outputId": "456d87cf-4560-490b-a995-bb638b61060b"
      },
      "source": [
        "data_train.head()"
      ],
      "execution_count": null,
      "outputs": [
        {
          "output_type": "execute_result",
          "data": {
            "text/html": [
              "<div>\n",
              "<style scoped>\n",
              "    .dataframe tbody tr th:only-of-type {\n",
              "        vertical-align: middle;\n",
              "    }\n",
              "\n",
              "    .dataframe tbody tr th {\n",
              "        vertical-align: top;\n",
              "    }\n",
              "\n",
              "    .dataframe thead th {\n",
              "        text-align: right;\n",
              "    }\n",
              "</style>\n",
              "<table border=\"1\" class=\"dataframe\">\n",
              "  <thead>\n",
              "    <tr style=\"text-align: right;\">\n",
              "      <th></th>\n",
              "      <th>tourney id</th>\n",
              "      <th>team id</th>\n",
              "      <th>player id</th>\n",
              "      <th>questions played</th>\n",
              "      <th>question number</th>\n",
              "      <th>question id</th>\n",
              "      <th>true position</th>\n",
              "      <th>result</th>\n",
              "    </tr>\n",
              "  </thead>\n",
              "  <tbody>\n",
              "    <tr>\n",
              "      <td>0</td>\n",
              "      <td>4772</td>\n",
              "      <td>45556</td>\n",
              "      <td>6212</td>\n",
              "      <td>19741</td>\n",
              "      <td>0</td>\n",
              "      <td>0</td>\n",
              "      <td>1.0</td>\n",
              "      <td>1</td>\n",
              "    </tr>\n",
              "    <tr>\n",
              "      <td>1</td>\n",
              "      <td>4772</td>\n",
              "      <td>45556</td>\n",
              "      <td>6212</td>\n",
              "      <td>19742</td>\n",
              "      <td>1</td>\n",
              "      <td>1</td>\n",
              "      <td>1.0</td>\n",
              "      <td>1</td>\n",
              "    </tr>\n",
              "    <tr>\n",
              "      <td>2</td>\n",
              "      <td>4772</td>\n",
              "      <td>45556</td>\n",
              "      <td>6212</td>\n",
              "      <td>19743</td>\n",
              "      <td>2</td>\n",
              "      <td>2</td>\n",
              "      <td>1.0</td>\n",
              "      <td>1</td>\n",
              "    </tr>\n",
              "    <tr>\n",
              "      <td>3</td>\n",
              "      <td>4772</td>\n",
              "      <td>45556</td>\n",
              "      <td>6212</td>\n",
              "      <td>19744</td>\n",
              "      <td>3</td>\n",
              "      <td>3</td>\n",
              "      <td>1.0</td>\n",
              "      <td>1</td>\n",
              "    </tr>\n",
              "    <tr>\n",
              "      <td>4</td>\n",
              "      <td>4772</td>\n",
              "      <td>45556</td>\n",
              "      <td>6212</td>\n",
              "      <td>19745</td>\n",
              "      <td>4</td>\n",
              "      <td>4</td>\n",
              "      <td>1.0</td>\n",
              "      <td>1</td>\n",
              "    </tr>\n",
              "  </tbody>\n",
              "</table>\n",
              "</div>"
            ],
            "text/plain": [
              "   tourney id  team id  player id  questions played  question number  \\\n",
              "0        4772    45556       6212             19741                0   \n",
              "1        4772    45556       6212             19742                1   \n",
              "2        4772    45556       6212             19743                2   \n",
              "3        4772    45556       6212             19744                3   \n",
              "4        4772    45556       6212             19745                4   \n",
              "\n",
              "   question id  true position  result  \n",
              "0            0            1.0       1  \n",
              "1            1            1.0       1  \n",
              "2            2            1.0       1  \n",
              "3            3            1.0       1  \n",
              "4            4            1.0       1  "
            ]
          },
          "metadata": {
            "tags": []
          },
          "execution_count": 8
        }
      ]
    },
    {
      "cell_type": "markdown",
      "metadata": {
        "id": "8ha2xq5gKuTo"
      },
      "source": [
        "# 2. Baseline-модель \n",
        "\n",
        "для baseline-модели будем считать, что повопросные результаты команды просто относятся к каждому из её игроков.\n",
        "\n",
        "Обучим baseline модель на основе логистической регрессии\n"
      ]
    },
    {
      "cell_type": "markdown",
      "metadata": {
        "id": "xqpPpY6vt6-O"
      },
      "source": [
        " "
      ]
    },
    {
      "cell_type": "code",
      "metadata": {
        "id": "5aFFQ0v_KuTp"
      },
      "source": [
        "new_players = []\n",
        "old_players = []\n",
        "\n",
        "for i in (question_2019 + question_2020).keys():\n",
        "    if num_of_question[i] + question_2019[i] < 100:\n",
        "        new_players += [i]\n",
        "    else:\n",
        "        old_players += [i]\n",
        "    \n",
        "new_index = {player_id:0 for player_id in new_players}\n",
        "old_index = {player_id:index + 1 for index, player_id in enumerate(old_players)}\n",
        "player_id_index = {**new_index, **old_index}\n",
        "index_player_id = {index:player_id for player_id, index in player_id_index.items()}"
      ],
      "execution_count": null,
      "outputs": []
    },
    {
      "cell_type": "code",
      "metadata": {
        "id": "y7-xxdvFKuTp"
      },
      "source": [
        "num_of_players_col = len(old_players) + 1\n",
        "len_data = data_train.shape[0]\n",
        "\n",
        "data = np.array([1] * len_data * 2)\n",
        "row = np.array(list(range(len_data)) * 2)\n",
        "\n",
        "players_col = [player_id_index[index] for index in data_train['player id']]\n",
        "questions_col = list(np.array(data_train['questions played']) + num_of_players_col)\n",
        "col = np.array(players_col + questions_col)\n",
        "\n",
        "X_train = csr_matrix((data, (row, col)), shape=(len_data, max(questions_col) + 1))\n",
        "y_train = np.array(data_train['result'])"
      ],
      "execution_count": null,
      "outputs": []
    },
    {
      "cell_type": "code",
      "metadata": {
        "id": "w0tGHZq4t6-P"
      },
      "source": [
        "X_train = csr_matrix((data, (row, col)), shape=(len_data, max(questions_col) + 1))\n",
        "y_train = np.array(data_train['result'])"
      ],
      "execution_count": null,
      "outputs": []
    },
    {
      "cell_type": "code",
      "metadata": {
        "id": "qEp92WbGKuTq",
        "outputId": "7024e066-6073-407c-c09e-0844cc582476"
      },
      "source": [
        "logregr = linear_model.LogisticRegression(solver='saga', C=10)\n",
        "logregr.fit(X_train, y_train)"
      ],
      "execution_count": null,
      "outputs": [
        {
          "output_type": "execute_result",
          "data": {
            "text/plain": [
              "LogisticRegression(C=10, class_weight=None, dual=False, fit_intercept=True,\n",
              "                   intercept_scaling=1, l1_ratio=None, max_iter=100,\n",
              "                   multi_class='warn', n_jobs=None, penalty='l2',\n",
              "                   random_state=None, solver='saga', tol=0.0001, verbose=0,\n",
              "                   warm_start=False)"
            ]
          },
          "metadata": {
            "tags": []
          },
          "execution_count": 12
        }
      ]
    },
    {
      "cell_type": "code",
      "metadata": {
        "id": "YWO-gQcFKuTq"
      },
      "source": [
        "len_data = data_test.shape[0]\n",
        "\n",
        "data = np.array([1] * len_data)\n",
        "row = np.array(list(range(len_data)))\n",
        "col = np.array([player_id_index[index] for index in data_test['player id']])\n",
        "\n",
        "X_test = csr_matrix((data, (row, col)), shape=(len_data, max(questions_col) + 1))"
      ],
      "execution_count": null,
      "outputs": []
    },
    {
      "cell_type": "code",
      "metadata": {
        "id": "n0izBDjEKuTq"
      },
      "source": [
        ""
      ],
      "execution_count": null,
      "outputs": []
    },
    {
      "cell_type": "markdown",
      "metadata": {
        "id": "3vwsPgZEKuTr"
      },
      "source": [
        "# 3. Качество предсказаний результатов турниров\n",
        "\n",
        "Качество рейтинг-системы оценивается качеством предсказаний результатов турниров. \n",
        "Предскажем результаты турнира с известными командами и их сосавами:\n",
        "\n",
        "1. Вероятность, что команда $\\tau$ ответит на вопрос $C_{q}$ равна вероятности, что хотябы 1 из ее участников $(i ∈ \\tau)$ ответи на этот вопрос. \n",
        "Следовательно, это (1 - вероятность того, что никто из участников команды не ответит на вопрос)\n",
        "\n",
        "$P(X_{\\tau q} = 1| C_{q}) = (1 - \\prod\\limits_{i ∈ \\tau}(1 - P(X_{iq}  = 1| C_{q}, S_{i})) )$\n",
        "\n",
        "2. Для построения рейтинга будем использовать вероятность, что команда $\\tau$ ответит на все вопросы $C_{qt}$ из турнира $t$\n",
        "\n",
        "$\\prod\\limits_{q ∈ t} P(X_{\\tau q} = 1| C_{q})$"
      ]
    },
    {
      "cell_type": "code",
      "metadata": {
        "id": "EI33ygC6KuTr"
      },
      "source": [
        "predict_train = logregr.predict_proba(X_train)\n",
        "predict_test = logregr.predict_proba(X_test)\n",
        "\n",
        "data_train['prob_answer'] = predict_train[:, 1]\n",
        "data_train['prob_team_answer'] = data_train['result']\n",
        "\n",
        "data_test['prob_answer'] = predict_test[:, 1]\n",
        "data_test['prob_team_answer'] = data_test['result']"
      ],
      "execution_count": null,
      "outputs": []
    },
    {
      "cell_type": "code",
      "metadata": {
        "id": "EMXft-2wKuTr"
      },
      "source": [
        "def get_team_results(data):\n",
        "    data['prob_not_answer'] = 1 - data['prob_answer']\n",
        "    team_result = data[['tourney id', 'team id', 'question number', 'prob_not_answer']].groupby(['tourney id', 'team id', 'question number']).agg('prod').reset_index()\n",
        "    team_result['prob_team_answer'] = 1 - team_result['prob_not_answer']\n",
        "    team_result = team_result.drop(columns='prob_not_answer')\n",
        "    \n",
        "    return team_result.reset_index()\n",
        "\n",
        "def get_standings (data):\n",
        "    standings = get_team_results(data).groupby(['tourney id', 'team id']).agg('prod').reset_index()\n",
        "    standings['true position'] = data.groupby(['tourney id', 'team id']).mean().reset_index()['true position']\n",
        "    standings = standings.sort_values(['tourney id','prob_team_answer'], ascending=[False, False])\n",
        "    standings['predict position'] = standings.groupby('tourney id').cumcount() + 1\n",
        "    return standings.drop(columns='question number')\n",
        "\n",
        "def get_metrics (standings):\n",
        "    Kendall = []\n",
        "    Spearman = []\n",
        "    for tourney_id in standings['tourney id'].unique():\n",
        "        pred_pos = standings.loc[standings['tourney id'] == tourney_id]['predict position'].values\n",
        "        true_pos = standings.loc[standings['tourney id'] == tourney_id]['true position'].values\n",
        "        \n",
        "        Kendall += [kendalltau(pred_pos, true_pos).correlation]\n",
        "        Spearman += [spearmanr(pred_pos, true_pos).correlation]\n",
        "        \n",
        "        Kendall = np.array(Kendall)\n",
        "        Spearman = np.array(Spearman)\n",
        "        \n",
        "        Kendall[np.isnan(Kendall)] = 0\n",
        "        Spearman[np.isnan(Spearman)] = 0\n",
        "    \n",
        "    return np.array(Kendall).mean(), np.array(Spearman).mean()"
      ],
      "execution_count": null,
      "outputs": []
    },
    {
      "cell_type": "code",
      "metadata": {
        "id": "zrim75-0KuTs",
        "scrolled": true
      },
      "source": [
        "standings_train = get_standings(data_train)\n",
        "standings_test = get_standings(data_test)\n"
      ],
      "execution_count": null,
      "outputs": []
    },
    {
      "cell_type": "code",
      "metadata": {
        "id": "7eNWahnNKuTs",
        "outputId": "c634205a-cb2a-450e-c27b-2d5fadd9f24f"
      },
      "source": [
        "Kendall, Spearman = get_metrics(standings_test)\n",
        "print('Коэф-т Спирмена:', Spearman)\n",
        "print('Коэф-т Кендалла:', Kendall)"
      ],
      "execution_count": null,
      "outputs": [
        {
          "output_type": "stream",
          "text": [
            "Коэф-т Спирмена: 0.7200290110904\n",
            "Коэф-т Кендалла: 0.52811276087381\n"
          ],
          "name": "stdout"
        }
      ]
    },
    {
      "cell_type": "markdown",
      "metadata": {
        "id": "oyed5ChEKuTt"
      },
      "source": [
        "# 4. EM-алгоритм\n",
        "\n",
        "#### E-шаг\n",
        "\n",
        "На E шаге максимизируем правдоподобие скрытой переменной.\n",
        "\n",
        "1. Сделаем допущение, что если команда не ответила на вопрос, то за столом не было правильной версии и ни один из игроков команды не ответил на этот вопрос.\n",
        "\n",
        "2. Тогда как, если команда ответила на вопрос, это значит, что хотя бы один из ее участников ответил на этот вопрос \n",
        "\n",
        "\n",
        "#### M-шаг\n",
        "\n",
        "Обучим логистическую модель с целевой переменной, вычисленной на E-шаге"
      ]
    },
    {
      "cell_type": "code",
      "metadata": {
        "id": "sNiQjRTXKuTt"
      },
      "source": [
        "EPS = 1e-8\n",
        "def e_step(data):\n",
        "    team_result = get_team_results(data)\n",
        "    data = data.drop(columns='prob_team_answer').merge(team_result,\n",
        "                                                       on=['tourney id', 'team id', 'question number'])\n",
        "    z = (data['prob_answer'] / data['prob_team_answer']).values\n",
        "    z[data_train['result'].values == 0] = 0\n",
        "    \n",
        "    z[z < EPS] = EPS\n",
        "    z[z > 1 - EPS] = 1 - EPS\n",
        "    return z"
      ],
      "execution_count": null,
      "outputs": []
    },
    {
      "cell_type": "markdown",
      "metadata": {
        "id": "uAaQVyBVt6-S"
      },
      "source": [
        "EM алоритм"
      ]
    },
    {
      "cell_type": "code",
      "metadata": {
        "id": "w13UoYC1KuTt",
        "outputId": "fd316b80-af9f-497f-cdca-bf59582ede79"
      },
      "source": [
        "\n",
        "for iIter in range(4):\n",
        "    \n",
        "    #E-шаг\n",
        "    z = e_step(data_train)\n",
        "    \n",
        "    #M-шаг\n",
        "    model = linear_model.Ridge(alpha=1/20)\n",
        "    y = logit(z)\n",
        "    model.fit(X_train, y)\n",
        "    data_train['prob_answer'] = expit(model.predict(X_train))\n",
        "    data_test['prob_answer'] = expit(model.predict(X_test))\n",
        "    \n",
        "    \n",
        "    standings_train = get_standings(data_train)\n",
        "    standings_test = get_standings(data_test)\n",
        "    Kendall, Spearman = get_metrics(standings_test)\n",
        "    \n",
        "    print('Итерация:', iIter + 1)\n",
        "    print('Коэф-т Спирмена: ', Spearman)\n",
        "    print('Коэф-т Кендалла: ', Kendall, '\\n')"
      ],
      "execution_count": null,
      "outputs": [
        {
          "output_type": "stream",
          "text": [
            "Итерация: 1\n",
            "Коэф-т Спирмена:  0.66039231388627\n",
            "Коэф-т Кендалла:  0.47695287647489 \n",
            "\n",
            "Итерация: 2\n",
            "Коэф-т Спирмена:  0.72897219205298\n",
            "Коэф-т Кендалла:  0.531950836727787 \n",
            "\n",
            "Итерация: 3\n",
            "Коэф-т Спирмена:  0.72233959399855\n",
            "Коэф-т Кендалла:  0.526000097789627 \n",
            "\n",
            "Итерация: 4\n",
            "Коэф-т Спирмена:  0.723064152048361\n",
            "Коэф-т Кендалла:  0.52684907463885 \n",
            "\n"
          ],
          "name": "stdout"
        }
      ]
    },
    {
      "cell_type": "markdown",
      "metadata": {
        "id": "Nhftb7MnKuTu"
      },
      "source": [
        "# 5. \"Рейтинг-лист\" турниров по сложности вопросов"
      ]
    },
    {
      "cell_type": "code",
      "metadata": {
        "id": "OJ2ZfYPBKuTu"
      },
      "source": [
        "rating_question = pd.DataFrame({'question id' : range(len(model.coef_) - num_of_players_col),\n",
        "                                'rating' : model.coef_[num_of_players_col:]})\n",
        "\n",
        "rating_question = rating_question.merge(data_train[['question id', 'tourney id', 'question number']]\n",
        "                                                .groupby(['question id']).mean().reset_index(), on=['question id'])\n",
        "\n",
        "rating_question['tourney name'] = [data_prepeared[2019][i]['name'] for i in rating_question['tourney id']]\n",
        "rating_question['teamQty'] = [data_prepeared[2019][i]['teamQty'] for i in rating_question['tourney id']]\n",
        "rating_question['answerQty'] = [data_prepeared[2019][i]['answerQty'][j] \n",
        "                                for i,j in zip(rating_question['tourney id'], rating_question['question number'])]\n",
        "rating_question['share of answers'] = rating_question['answerQty'] / rating_question['teamQty']\n",
        "\n",
        "rating_question = rating_question.sort_values('rating', ascending=False)"
      ],
      "execution_count": null,
      "outputs": []
    },
    {
      "cell_type": "code",
      "metadata": {
        "id": "lwcw8vjnKuTu",
        "outputId": "06934358-f23b-4373-ef8c-08dfd1ff6885"
      },
      "source": [
        "print('ТОП-10 сложных вопросов')\n",
        "rating_question.head(10)"
      ],
      "execution_count": null,
      "outputs": [
        {
          "output_type": "stream",
          "text": [
            "ТОП-10 сложных вопросов\n"
          ],
          "name": "stdout"
        },
        {
          "output_type": "execute_result",
          "data": {
            "text/html": [
              "<div>\n",
              "<style scoped>\n",
              "    .dataframe tbody tr th:only-of-type {\n",
              "        vertical-align: middle;\n",
              "    }\n",
              "\n",
              "    .dataframe tbody tr th {\n",
              "        vertical-align: top;\n",
              "    }\n",
              "\n",
              "    .dataframe thead th {\n",
              "        text-align: right;\n",
              "    }\n",
              "</style>\n",
              "<table border=\"1\" class=\"dataframe\">\n",
              "  <thead>\n",
              "    <tr style=\"text-align: right;\">\n",
              "      <th></th>\n",
              "      <th>question id</th>\n",
              "      <th>rating</th>\n",
              "      <th>tourney id</th>\n",
              "      <th>question number</th>\n",
              "      <th>tourney name</th>\n",
              "      <th>teamQty</th>\n",
              "      <th>answerQty</th>\n",
              "      <th>share of answers</th>\n",
              "    </tr>\n",
              "  </thead>\n",
              "  <tbody>\n",
              "    <tr>\n",
              "      <td>32395</td>\n",
              "      <td>33067</td>\n",
              "      <td>13.065328</td>\n",
              "      <td>6150</td>\n",
              "      <td>175</td>\n",
              "      <td>Чемпионат Санкт-Петербурга. Высшая лига</td>\n",
              "      <td>12</td>\n",
              "      <td>11</td>\n",
              "      <td>0.915667</td>\n",
              "    </tr>\n",
              "    <tr>\n",
              "      <td>32902</td>\n",
              "      <td>33574</td>\n",
              "      <td>12.571005</td>\n",
              "      <td>6249</td>\n",
              "      <td>205</td>\n",
              "      <td>Школьный синхрон-lite. Сезон 3</td>\n",
              "      <td>15</td>\n",
              "      <td>11</td>\n",
              "      <td>0.733333</td>\n",
              "    </tr>\n",
              "    <tr>\n",
              "      <td>30822</td>\n",
              "      <td>31446</td>\n",
              "      <td>11.966581</td>\n",
              "      <td>6090</td>\n",
              "      <td>232</td>\n",
              "      <td>Дзержинский марафон</td>\n",
              "      <td>4</td>\n",
              "      <td>2</td>\n",
              "      <td>0.510000</td>\n",
              "    </tr>\n",
              "    <tr>\n",
              "      <td>32288</td>\n",
              "      <td>32960</td>\n",
              "      <td>11.394113</td>\n",
              "      <td>6150</td>\n",
              "      <td>68</td>\n",
              "      <td>Чемпионат Санкт-Петербурга. Высшая лига</td>\n",
              "      <td>12</td>\n",
              "      <td>10</td>\n",
              "      <td>0.823333</td>\n",
              "    </tr>\n",
              "    <tr>\n",
              "      <td>31202</td>\n",
              "      <td>31874</td>\n",
              "      <td>11.087997</td>\n",
              "      <td>6103</td>\n",
              "      <td>1</td>\n",
              "      <td>Українська ліга. Етап 2</td>\n",
              "      <td>59</td>\n",
              "      <td>34</td>\n",
              "      <td>0.566271</td>\n",
              "    </tr>\n",
              "    <tr>\n",
              "      <td>33261</td>\n",
              "      <td>33933</td>\n",
              "      <td>10.8981244</td>\n",
              "      <td>6255</td>\n",
              "      <td>96</td>\n",
              "      <td>ОВСЧ</td>\n",
              "      <td>352</td>\n",
              "      <td>281</td>\n",
              "      <td>0.788295</td>\n",
              "    </tr>\n",
              "    <tr>\n",
              "      <td>32354</td>\n",
              "      <td>33026</td>\n",
              "      <td>10.564851</td>\n",
              "      <td>6150</td>\n",
              "      <td>134</td>\n",
              "      <td>Чемпионат Санкт-Петербурга. Высшая лига</td>\n",
              "      <td>12</td>\n",
              "      <td>7</td>\n",
              "      <td>0.572333</td>\n",
              "    </tr>\n",
              "    <tr>\n",
              "      <td>32072</td>\n",
              "      <td>32744</td>\n",
              "      <td>10.490881</td>\n",
              "      <td>6149</td>\n",
              "      <td>32</td>\n",
              "      <td>Чемпионат Санкт-Петербурга. Первая лига</td>\n",
              "      <td>39</td>\n",
              "      <td>0</td>\n",
              "      <td>0.000000</td>\n",
              "    </tr>\n",
              "    <tr>\n",
              "      <td>32950</td>\n",
              "      <td>33622</td>\n",
              "      <td>10.424775</td>\n",
              "      <td>6254</td>\n",
              "      <td>1</td>\n",
              "      <td>Школьная лига</td>\n",
              "      <td>193</td>\n",
              "      <td>46</td>\n",
              "      <td>0.239342</td>\n",
              "    </tr>\n",
              "    <tr>\n",
              "      <td>32932</td>\n",
              "      <td>33604</td>\n",
              "      <td>10.291460</td>\n",
              "      <td>6249</td>\n",
              "      <td>235</td>\n",
              "      <td>Школьный синхрон-lite. Сезон 3</td>\n",
              "      <td>15</td>\n",
              "      <td>4</td>\n",
              "      <td>0.276667</td>\n",
              "    </tr>\n",
              "  </tbody>\n",
              "</table>\n",
              "</div>"
            ],
            "text/plain": [
              "       question id     rating  tourney id  question number  \\\n",
              "32395        33067  13.045328        6150              175   \n",
              "32902        33574  12.471005        6249              205   \n",
              "30822        31446  11.926581        6090              232   \n",
              "32288        32960  11.434113        6150               68   \n",
              "31202        31874  11.087997        6103                1   \n",
              "33261        33933  10.891244        6255               96   \n",
              "32354        33026  10.554851        6150              134   \n",
              "32072        32744  10.480881        6149               32   \n",
              "32950        33622  10.404775        6254                1   \n",
              "32932        33604  10.321460        6249              235   \n",
              "\n",
              "                                  tourney name  teamQty  answerQty  \\\n",
              "32395  Чемпионат Санкт-Петербурга. Высшая лига       12         11   \n",
              "32902           Школьный синхрон-lite. Сезон 3       15         11   \n",
              "30822                      Дзержинский марафон        4          2   \n",
              "32288  Чемпионат Санкт-Петербурга. Высшая лига       12         10   \n",
              "31202                  Українська ліга. Етап 2       59         34   \n",
              "33261                                     ОВСЧ      352        281   \n",
              "32354  Чемпионат Санкт-Петербурга. Высшая лига       12          7   \n",
              "32072  Чемпионат Санкт-Петербурга. Первая лига       39          0   \n",
              "32950                            Школьная лига      193         46   \n",
              "32932           Школьный синхрон-lite. Сезон 3       15          4   \n",
              "\n",
              "       share of answers  \n",
              "32395          0.916667  \n",
              "32902          0.733333  \n",
              "30822          0.500000  \n",
              "32288          0.833333  \n",
              "31202          0.576271  \n",
              "33261          0.798295  \n",
              "32354          0.583333  \n",
              "32072          0.000000  \n",
              "32950          0.238342  \n",
              "32932          0.266667  "
            ]
          },
          "metadata": {
            "tags": []
          },
          "execution_count": 22
        }
      ]
    },
    {
      "cell_type": "code",
      "metadata": {
        "id": "Uh5hQWd2KuTu",
        "outputId": "fd9cb884-6d30-48b4-8317-2e375cb3dd73"
      },
      "source": [
        "print('ТОП-10 легких вопросов')\n",
        "rating_question.tail(5)"
      ],
      "execution_count": null,
      "outputs": [
        {
          "output_type": "stream",
          "text": [
            "ТОП-10 легких вопросов\n"
          ],
          "name": "stdout"
        },
        {
          "output_type": "execute_result",
          "data": {
            "text/html": [
              "<div>\n",
              "<style scoped>\n",
              "    .dataframe tbody tr th:only-of-type {\n",
              "        vertical-align: middle;\n",
              "    }\n",
              "\n",
              "    .dataframe tbody tr th {\n",
              "        vertical-align: top;\n",
              "    }\n",
              "\n",
              "    .dataframe thead th {\n",
              "        text-align: right;\n",
              "    }\n",
              "</style>\n",
              "<table border=\"1\" class=\"dataframe\">\n",
              "  <thead>\n",
              "    <tr style=\"text-align: right;\">\n",
              "      <th></th>\n",
              "      <th>question id</th>\n",
              "      <th>rating</th>\n",
              "      <th>tourney id</th>\n",
              "      <th>question number</th>\n",
              "      <th>tourney name</th>\n",
              "      <th>teamQty</th>\n",
              "      <th>answerQty</th>\n",
              "      <th>share of answers</th>\n",
              "    </tr>\n",
              "  </thead>\n",
              "  <tbody>\n",
              "    <tr>\n",
              "      <td>32220</td>\n",
              "      <td>32892</td>\n",
              "      <td>-9.199869</td>\n",
              "      <td>6150</td>\n",
              "      <td>0</td>\n",
              "      <td>Чемпионат Санкт-Петербурга. Высшая лига</td>\n",
              "      <td>12</td>\n",
              "      <td>10</td>\n",
              "      <td>0.833333</td>\n",
              "    </tr>\n",
              "    <tr>\n",
              "      <td>32995</td>\n",
              "      <td>33667</td>\n",
              "      <td>-9.199880</td>\n",
              "      <td>6254</td>\n",
              "      <td>46</td>\n",
              "      <td>Школьная лига</td>\n",
              "      <td>193</td>\n",
              "      <td>47</td>\n",
              "      <td>0.243523</td>\n",
              "    </tr>\n",
              "    <tr>\n",
              "      <td>32174</td>\n",
              "      <td>32846</td>\n",
              "      <td>-9.200379</td>\n",
              "      <td>6149</td>\n",
              "      <td>134</td>\n",
              "      <td>Чемпионат Санкт-Петербурга. Первая лига</td>\n",
              "      <td>39</td>\n",
              "      <td>0</td>\n",
              "      <td>0.000000</td>\n",
              "    </tr>\n",
              "    <tr>\n",
              "      <td>33361</td>\n",
              "      <td>34033</td>\n",
              "      <td>-9.200507</td>\n",
              "      <td>6255</td>\n",
              "      <td>196</td>\n",
              "      <td>ОВСЧ</td>\n",
              "      <td>352</td>\n",
              "      <td>231</td>\n",
              "      <td>0.656250</td>\n",
              "    </tr>\n",
              "    <tr>\n",
              "      <td>32623</td>\n",
              "      <td>33295</td>\n",
              "      <td>-9.200763</td>\n",
              "      <td>6173</td>\n",
              "      <td>58</td>\n",
              "      <td>Кубок Мэра Казани</td>\n",
              "      <td>16</td>\n",
              "      <td>4</td>\n",
              "      <td>0.250000</td>\n",
              "    </tr>\n",
              "  </tbody>\n",
              "</table>\n",
              "</div>"
            ],
            "text/plain": [
              "       question id    rating  tourney id  question number  \\\n",
              "32220        32892 -9.199869        6150                0   \n",
              "32995        33667 -9.199880        6254               46   \n",
              "32174        32846 -9.200379        6149              134   \n",
              "33361        34033 -9.200507        6255              196   \n",
              "32623        33295 -9.200763        6173               58   \n",
              "\n",
              "                                  tourney name  teamQty  answerQty  \\\n",
              "32220  Чемпионат Санкт-Петербурга. Высшая лига       12         10   \n",
              "32995                            Школьная лига      193         47   \n",
              "32174  Чемпионат Санкт-Петербурга. Первая лига       39          0   \n",
              "33361                                     ОВСЧ      352        231   \n",
              "32623                        Кубок Мэра Казани       16          4   \n",
              "\n",
              "       share of answers  \n",
              "32220          0.833333  \n",
              "32995          0.243523  \n",
              "32174          0.000000  \n",
              "33361          0.656250  \n",
              "32623          0.250000  "
            ]
          },
          "metadata": {
            "tags": []
          },
          "execution_count": 28
        }
      ]
    },
    {
      "cell_type": "code",
      "metadata": {
        "id": "qaznA9VSKuTv"
      },
      "source": [
        ""
      ],
      "execution_count": null,
      "outputs": []
    },
    {
      "cell_type": "markdown",
      "metadata": {
        "id": "vXFrFHPhKuTv"
      },
      "source": [
        "# 6. ТОП игроков"
      ]
    },
    {
      "cell_type": "code",
      "metadata": {
        "id": "jtmP4De4KuTv"
      },
      "source": [
        "rating_player = pd.DataFrame({'index' : range(num_of_players_col),\n",
        "                              'rating' : model.coef_[:num_of_players_col]})\n",
        "rating_player['player id'] = [index_player_id[i] for i in rating_player['index']]\n",
        "rating_player['name'] = [players[i]['surname'] + ' ' + players[i]['name'] \n",
        "                         for i in rating_player['player id']]\n",
        "rating_player['before_2019'] = [num_of_question[i] for i in rating_player['player id']]\n",
        "rating_player['question_2019'] = [question_2019[i] for i in rating_player['player id']]\n",
        "rating_player['team_answer_2019'] = [answer_2019[i] for i in rating_player['player id']]\n",
        "\n",
        "rating_player = rating_player.sort_values('rating', ascending=False)"
      ],
      "execution_count": null,
      "outputs": []
    },
    {
      "cell_type": "code",
      "metadata": {
        "id": "FASkIPr8KuTv",
        "outputId": "7f8b5817-ff2d-487d-d127-a87ecbb760a9"
      },
      "source": [
        "print('ТОП-10 лучших игроков')\n",
        "rating_player.head(10)"
      ],
      "execution_count": null,
      "outputs": [
        {
          "output_type": "stream",
          "text": [
            "ТОП-10 лучших игроков\n"
          ],
          "name": "stdout"
        },
        {
          "output_type": "execute_result",
          "data": {
            "text/html": [
              "<div>\n",
              "<style scoped>\n",
              "    .dataframe tbody tr th:only-of-type {\n",
              "        vertical-align: middle;\n",
              "    }\n",
              "\n",
              "    .dataframe tbody tr th {\n",
              "        vertical-align: top;\n",
              "    }\n",
              "\n",
              "    .dataframe thead th {\n",
              "        text-align: right;\n",
              "    }\n",
              "</style>\n",
              "<table border=\"1\" class=\"dataframe\">\n",
              "  <thead>\n",
              "    <tr style=\"text-align: right;\">\n",
              "      <th></th>\n",
              "      <th>index</th>\n",
              "      <th>rating</th>\n",
              "      <th>player id</th>\n",
              "      <th>name</th>\n",
              "      <th>before_2019</th>\n",
              "      <th>question_2019</th>\n",
              "      <th>team_answer_2019</th>\n",
              "    </tr>\n",
              "  </thead>\n",
              "  <tbody>\n",
              "    <tr>\n",
              "      <td>25594</td>\n",
              "      <td>25594</td>\n",
              "      <td>10.136083</td>\n",
              "      <td>22474</td>\n",
              "      <td>Немец Илья</td>\n",
              "      <td>407</td>\n",
              "      <td>75</td>\n",
              "      <td>45</td>\n",
              "    </tr>\n",
              "    <tr>\n",
              "      <td>10788</td>\n",
              "      <td>10788</td>\n",
              "      <td>9.754186</td>\n",
              "      <td>169939</td>\n",
              "      <td>Таратин Иван</td>\n",
              "      <td>252</td>\n",
              "      <td>72</td>\n",
              "      <td>39</td>\n",
              "    </tr>\n",
              "    <tr>\n",
              "      <td>35236</td>\n",
              "      <td>35236</td>\n",
              "      <td>8.205437</td>\n",
              "      <td>152889</td>\n",
              "      <td>Гольдштейн Анна</td>\n",
              "      <td>72</td>\n",
              "      <td>36</td>\n",
              "      <td>30</td>\n",
              "    </tr>\n",
              "    <tr>\n",
              "      <td>20933</td>\n",
              "      <td>20933</td>\n",
              "      <td>8.030879</td>\n",
              "      <td>73534</td>\n",
              "      <td>Смерецкий Георгий</td>\n",
              "      <td>369</td>\n",
              "      <td>72</td>\n",
              "      <td>43</td>\n",
              "    </tr>\n",
              "    <tr>\n",
              "      <td>31798</td>\n",
              "      <td>31798</td>\n",
              "      <td>7.765756</td>\n",
              "      <td>170977</td>\n",
              "      <td>Кан Давид</td>\n",
              "      <td>108</td>\n",
              "      <td>36</td>\n",
              "      <td>32</td>\n",
              "    </tr>\n",
              "    <tr>\n",
              "      <td>31799</td>\n",
              "      <td>31799</td>\n",
              "      <td>7.755218</td>\n",
              "      <td>171845</td>\n",
              "      <td>Завьялов Михаил</td>\n",
              "      <td>144</td>\n",
              "      <td>36</td>\n",
              "      <td>32</td>\n",
              "    </tr>\n",
              "    <tr>\n",
              "      <td>35707</td>\n",
              "      <td>35707</td>\n",
              "      <td>7.740458</td>\n",
              "      <td>222188</td>\n",
              "      <td>Гринко Арина</td>\n",
              "      <td>0</td>\n",
              "      <td>216</td>\n",
              "      <td>179</td>\n",
              "    </tr>\n",
              "    <tr>\n",
              "      <td>35158</td>\n",
              "      <td>35158</td>\n",
              "      <td>7.724173</td>\n",
              "      <td>216863</td>\n",
              "      <td>Гаврилов Глеб</td>\n",
              "      <td>0</td>\n",
              "      <td>252</td>\n",
              "      <td>207</td>\n",
              "    </tr>\n",
              "    <tr>\n",
              "      <td>13645</td>\n",
              "      <td>13645</td>\n",
              "      <td>7.743376</td>\n",
              "      <td>121433</td>\n",
              "      <td>Савенко София</td>\n",
              "      <td>711</td>\n",
              "      <td>36</td>\n",
              "      <td>33</td>\n",
              "    </tr>\n",
              "    <tr>\n",
              "      <td>12001</td>\n",
              "      <td>12001</td>\n",
              "      <td>7.347618</td>\n",
              "      <td>167987</td>\n",
              "      <td>Махова Ярослава</td>\n",
              "      <td>48</td>\n",
              "      <td>72</td>\n",
              "      <td>56</td>\n",
              "    </tr>\n",
              "  </tbody>\n",
              "</table>\n",
              "</div>"
            ],
            "text/plain": [
              "       index     rating  player id               name  before_2019  \\\n",
              "25594  25594  10.146083      22474         Немец Илья          407   \n",
              "10788  10788   9.654186     169939       Таратин Иван          252   \n",
              "35236  35236   8.005437     152889    Гольдштейн Анна           72   \n",
              "20933  20933   8.000879      73534  Смерецкий Георгий          369   \n",
              "31798  31798   7.885756     170977          Кан Давид          108   \n",
              "31799  31799   7.815218     171845    Завьялов Михаил          144   \n",
              "35707  35707   7.750458     222188       Гринко Арина            0   \n",
              "35158  35158   7.720173     216863      Гаврилов Глеб            0   \n",
              "13645  13645   7.643376     121433      Савенко София          711   \n",
              "12001  12001   7.577618     167987    Махова Ярослава           48   \n",
              "\n",
              "       question_2019  team_answer_2019  \n",
              "25594             75                45  \n",
              "10788             72                39  \n",
              "35236             36                30  \n",
              "20933             72                43  \n",
              "31798             36                32  \n",
              "31799             36                32  \n",
              "35707            216               179  \n",
              "35158            252               207  \n",
              "13645             36                33  \n",
              "12001             72                56  "
            ]
          },
          "metadata": {
            "tags": []
          },
          "execution_count": 25
        }
      ]
    },
    {
      "cell_type": "code",
      "metadata": {
        "id": "3YnZA0R9KuTw",
        "outputId": "1eb661ab-cd15-414f-d149-b09b3270e2e6"
      },
      "source": [
        "print('ТОП-10 игроков, которым надо приложить силы')\n",
        "rating_player.tail(10)"
      ],
      "execution_count": null,
      "outputs": [
        {
          "output_type": "stream",
          "text": [
            "ТОП-10 игроков, которым надо приложить силы\n"
          ],
          "name": "stdout"
        },
        {
          "output_type": "execute_result",
          "data": {
            "text/html": [
              "<div>\n",
              "<style scoped>\n",
              "    .dataframe tbody tr th:only-of-type {\n",
              "        vertical-align: middle;\n",
              "    }\n",
              "\n",
              "    .dataframe tbody tr th {\n",
              "        vertical-align: top;\n",
              "    }\n",
              "\n",
              "    .dataframe thead th {\n",
              "        text-align: right;\n",
              "    }\n",
              "</style>\n",
              "<table border=\"1\" class=\"dataframe\">\n",
              "  <thead>\n",
              "    <tr style=\"text-align: right;\">\n",
              "      <th></th>\n",
              "      <th>index</th>\n",
              "      <th>rating</th>\n",
              "      <th>player id</th>\n",
              "      <th>name</th>\n",
              "      <th>before_2019</th>\n",
              "      <th>question_2019</th>\n",
              "      <th>team_answer_2019</th>\n",
              "    </tr>\n",
              "  </thead>\n",
              "  <tbody>\n",
              "    <tr>\n",
              "      <td>17627</td>\n",
              "      <td>17627</td>\n",
              "      <td>-5.471917</td>\n",
              "      <td>89362</td>\n",
              "      <td>Салаев Кянан</td>\n",
              "      <td>561</td>\n",
              "      <td>41</td>\n",
              "      <td>0</td>\n",
              "    </tr>\n",
              "    <tr>\n",
              "      <td>24917</td>\n",
              "      <td>24917</td>\n",
              "      <td>-5.724415</td>\n",
              "      <td>102151</td>\n",
              "      <td>Ширай Ольга</td>\n",
              "      <td>5375</td>\n",
              "      <td>96</td>\n",
              "      <td>12</td>\n",
              "    </tr>\n",
              "    <tr>\n",
              "      <td>15818</td>\n",
              "      <td>15818</td>\n",
              "      <td>-5.798195</td>\n",
              "      <td>30231</td>\n",
              "      <td>Сотникова Елена</td>\n",
              "      <td>4150</td>\n",
              "      <td>48</td>\n",
              "      <td>6</td>\n",
              "    </tr>\n",
              "    <tr>\n",
              "      <td>16046</td>\n",
              "      <td>16046</td>\n",
              "      <td>-6.209259</td>\n",
              "      <td>26950</td>\n",
              "      <td>Рогожин Антон</td>\n",
              "      <td>2691</td>\n",
              "      <td>48</td>\n",
              "      <td>3</td>\n",
              "    </tr>\n",
              "    <tr>\n",
              "      <td>31950</td>\n",
              "      <td>31950</td>\n",
              "      <td>-6.281616</td>\n",
              "      <td>39911</td>\n",
              "      <td>Ахмедов Гамид</td>\n",
              "      <td>5379</td>\n",
              "      <td>36</td>\n",
              "      <td>4</td>\n",
              "    </tr>\n",
              "    <tr>\n",
              "      <td>20504</td>\n",
              "      <td>20504</td>\n",
              "      <td>-6.296910</td>\n",
              "      <td>69199</td>\n",
              "      <td>Княжевский Борис</td>\n",
              "      <td>6012</td>\n",
              "      <td>288</td>\n",
              "      <td>35</td>\n",
              "    </tr>\n",
              "    <tr>\n",
              "      <td>35482</td>\n",
              "      <td>35482</td>\n",
              "      <td>-6.330514</td>\n",
              "      <td>139407</td>\n",
              "      <td>Килин Алексей</td>\n",
              "      <td>3976</td>\n",
              "      <td>36</td>\n",
              "      <td>3</td>\n",
              "    </tr>\n",
              "    <tr>\n",
              "      <td>24902</td>\n",
              "      <td>24902</td>\n",
              "      <td>-6.983274</td>\n",
              "      <td>64613</td>\n",
              "      <td>Ааронян Арсен</td>\n",
              "      <td>7046</td>\n",
              "      <td>111</td>\n",
              "      <td>14</td>\n",
              "    </tr>\n",
              "    <tr>\n",
              "      <td>30250</td>\n",
              "      <td>30250</td>\n",
              "      <td>-6.992194</td>\n",
              "      <td>46069</td>\n",
              "      <td>Штерн Александра</td>\n",
              "      <td>2446</td>\n",
              "      <td>48</td>\n",
              "      <td>0</td>\n",
              "    </tr>\n",
              "    <tr>\n",
              "      <td>33148</td>\n",
              "      <td>33148</td>\n",
              "      <td>-6.997623</td>\n",
              "      <td>54642</td>\n",
              "      <td>Жалова Мария</td>\n",
              "      <td>8179</td>\n",
              "      <td>45</td>\n",
              "      <td>6</td>\n",
              "    </tr>\n",
              "  </tbody>\n",
              "</table>\n",
              "</div>"
            ],
            "text/plain": [
              "       index    rating  player id              name  before_2019  \\\n",
              "17627  17627 -5.771917      89362      Салаев Кянан          561   \n",
              "24917  24917 -5.924415     102151       Ширай Ольга         5375   \n",
              "15818  15818 -5.998195      30231   Сотникова Елена         4150   \n",
              "16046  16046 -6.029259      26950     Рогожин Антон         2691   \n",
              "31950  31950 -6.081616      39911     Ахмедов Гамид         5379   \n",
              "20504  20504 -6.266910      69199  Княжевский Борис         6012   \n",
              "35482  35482 -6.330514     139407     Килин Алексей         3976   \n",
              "24902  24902 -6.384274      64613     Ааронян Арсен         7046   \n",
              "30250  30250 -6.962194      46069  Штерн Александра         2446   \n",
              "33148  33148 -6.970623      54642      Жалова Мария         8179   \n",
              "\n",
              "       question_2019  team_answer_2019  \n",
              "17627             41                 0  \n",
              "24917             96                12  \n",
              "15818             48                 6  \n",
              "16046             48                 3  \n",
              "31950             36                 4  \n",
              "20504            288                35  \n",
              "35482             36                 3  \n",
              "24902            111                14  \n",
              "30250             48                 0  \n",
              "33148             45                 6  "
            ]
          },
          "metadata": {
            "tags": []
          },
          "execution_count": 26
        }
      ]
    },
    {
      "cell_type": "code",
      "metadata": {
        "id": "wcwGVPrmKuTw"
      },
      "source": [
        ""
      ],
      "execution_count": null,
      "outputs": []
    }
  ]
}