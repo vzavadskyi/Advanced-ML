{
  "nbformat": 4,
  "nbformat_minor": 5,
  "metadata": {
    "kernelspec": {
      "display_name": "Python 3",
      "language": "python",
      "name": "python3"
    },
    "language_info": {
      "codemirror_mode": {
        "name": "ipython",
        "version": 3
      },
      "file_extension": ".py",
      "mimetype": "text/x-python",
      "name": "python",
      "nbconvert_exporter": "python",
      "pygments_lexer": "ipython3",
      "version": "3.9.2"
    },
    "colab": {
      "name": "ML_HW_2.ipynb",
      "provenance": [],
      "collapsed_sections": []
    }
  },
  "cells": [
    {
      "cell_type": "code",
      "metadata": {
        "id": "295ef7af"
      },
      "source": [
        "import os\n",
        "import re\n",
        "\n",
        "from collections import Counter\n",
        "from copy import copy\n",
        "\n",
        "import numpy as np\n",
        "\n",
        "from tqdm import tqdm"
      ],
      "id": "295ef7af",
      "execution_count": null,
      "outputs": []
    },
    {
      "cell_type": "code",
      "metadata": {
        "id": "9c84d508"
      },
      "source": [
        "DATA_PATH = 'D:/MADE/2021/(ML) Продвинутое машинное обучение/2/data'\n",
        "\n",
        "with open(os.path.join(DATA_PATH, 'AnnaKarenina.txt'), 'r', encoding='utf-8') as f1, \\\n",
        "     open(os.path.join(DATA_PATH, 'WarAndPeace.txt'), 'r', encoding='utf-8') as f2:\n",
        "    anna_karenina = f1.read().lower()\n",
        "    war_and_peace = f2.read().lower()"
      ],
      "id": "9c84d508",
      "execution_count": null,
      "outputs": []
    },
    {
      "cell_type": "code",
      "metadata": {
        "id": "a35aeef5"
      },
      "source": [
        "ALPHABET = 'абвгдеёжзийклмнопрстуфхцчшщъыьэюя '"
      ],
      "id": "a35aeef5",
      "execution_count": null,
      "outputs": []
    },
    {
      "cell_type": "markdown",
      "metadata": {
        "id": "2d8cd134"
      },
      "source": [
        "Подготовка текста"
      ],
      "id": "2d8cd134"
    },
    {
      "cell_type": "code",
      "metadata": {
        "id": "c068400f"
      },
      "source": [
        "def prepare_text(text):\n",
        "    prepeared = ''\n",
        "    for l in text.lower():\n",
        "        if l in ALPHABET:\n",
        "            prepeared += ''.join(l)\n",
        "    return(prepeared)"
      ],
      "id": "c068400f",
      "execution_count": null,
      "outputs": []
    },
    {
      "cell_type": "markdown",
      "metadata": {
        "id": "136e4975"
      },
      "source": [
        "Формируем обучающую выборку"
      ],
      "id": "136e4975"
    },
    {
      "cell_type": "code",
      "metadata": {
        "id": "c496fd4c"
      },
      "source": [
        "train_texts = prepare_text(anna_karenina + war_and_peace)"
      ],
      "id": "c496fd4c",
      "execution_count": null,
      "outputs": []
    },
    {
      "cell_type": "markdown",
      "metadata": {
        "id": "03aef02b"
      },
      "source": [
        "1. Базовый частотный метод"
      ],
      "id": "03aef02b"
    },
    {
      "cell_type": "markdown",
      "metadata": {
        "id": "AdhVR18CDMFP"
      },
      "source": [
        "1. Реализуйте базовый частотный метод по Шерлоку Холмсу:\n",
        "\n",
        "\n",
        "*   подсчитайте частоты букв по корпусам (пунктуацию и капитализацию можно просто \n",
        "опустить, а вот пробелы лучше оставить);\n",
        "*   возьмите какие-нибудь тестовые тексты (нужно взять по меньшей мере 2-3 предложения, иначе вряд ли сработает), зашифруйте их посредством случайной перестановки символов;\n",
        "*   расшифруйте их таким частотным методом."
      ],
      "id": "AdhVR18CDMFP"
    },
    {
      "cell_type": "code",
      "metadata": {
        "id": "1b98ccfe"
      },
      "source": [
        "def base_freqs(text):\n",
        "    freqs = {}\n",
        "    for symbol in text:\n",
        "        if symbol.lower() not in freqs:\n",
        "            freqs[symbol.lower()] = 1\n",
        "        else:\n",
        "            freqs[symbol.lower()] += 1\n",
        "\n",
        "    prob = {}\n",
        "    for k, v in freqs.items():\n",
        "        prob[k] = v / sum(freqs.values())\n",
        "\n",
        "    prob = dict(sorted(prob.items(), key=lambda x: x[1], reverse=True))\n",
        "    return prob"
      ],
      "id": "1b98ccfe",
      "execution_count": null,
      "outputs": []
    },
    {
      "cell_type": "code",
      "metadata": {
        "id": "e6d7caae"
      },
      "source": [
        "unigram_freqs = base_freqs(train_texts)"
      ],
      "id": "e6d7caae",
      "execution_count": null,
      "outputs": []
    },
    {
      "cell_type": "code",
      "metadata": {
        "id": "cdf40111"
      },
      "source": [
        "def encoded(orig_freqs):\n",
        "    return dict(zip(orig_freqs, np.random.permutation(list(orig_freqs))))"
      ],
      "id": "cdf40111",
      "execution_count": null,
      "outputs": []
    },
    {
      "cell_type": "code",
      "metadata": {
        "id": "697351dc"
      },
      "source": [
        "encode_mapping = encoded(unigram_freqs)"
      ],
      "id": "697351dc",
      "execution_count": null,
      "outputs": []
    },
    {
      "cell_type": "code",
      "metadata": {
        "id": "f9209371"
      },
      "source": [
        "test_text = \"\"\"\n",
        "Она улыбнулась на его похвалу и через его плечо продолжала разглядывать залу. \n",
        "Она была не вновь выезжающая, у которой на бале все лица сливаются в одно волшебное впечатление; \n",
        "она и не была затасканная по балам девушка, которой все лица бала так знакомы, что наскучили; \n",
        "но она была на середине этих двух, — она была возбуждена, а вместе с тем обладала собой настолько, \n",
        "что могла наблюдать.  \n",
        "\"\"\""
      ],
      "id": "f9209371",
      "execution_count": null,
      "outputs": []
    },
    {
      "cell_type": "code",
      "metadata": {
        "id": "36155e16"
      },
      "source": [
        "filtered_text = prepare_text(test_text)"
      ],
      "id": "36155e16",
      "execution_count": null,
      "outputs": []
    },
    {
      "cell_type": "code",
      "metadata": {
        "id": "1b70f21b"
      },
      "source": [
        "def base_decode(text, mapping):\n",
        "    result = ''\n",
        "    for l in text:\n",
        "        result += ''.join(mapping[l])\n",
        "    return result"
      ],
      "id": "1b70f21b",
      "execution_count": null,
      "outputs": []
    },
    {
      "cell_type": "code",
      "metadata": {
        "id": "0c257713"
      },
      "source": [
        "encoded_text = base_decode(filtered_text, encode_mapping)"
      ],
      "id": "0c257713",
      "execution_count": null,
      "outputs": []
    },
    {
      "cell_type": "code",
      "metadata": {
        "id": "e2244420"
      },
      "source": [
        "text_unigram_freqs = base_freqs(encoded_text)"
      ],
      "id": "e2244420",
      "execution_count": null,
      "outputs": []
    },
    {
      "cell_type": "code",
      "metadata": {
        "id": "5b893e7a"
      },
      "source": [
        "def decoded(orig_freqs, text_freqs):\n",
        "    return dict(zip(text_freqs, orig_freqs))"
      ],
      "id": "5b893e7a",
      "execution_count": null,
      "outputs": []
    },
    {
      "cell_type": "code",
      "metadata": {
        "id": "f74515a7"
      },
      "source": [
        "decode_mapping = decoded(unigram_freqs, text_unigram_freqs)"
      ],
      "id": "f74515a7",
      "execution_count": null,
      "outputs": []
    },
    {
      "cell_type": "code",
      "metadata": {
        "id": "1685ba21"
      },
      "source": [
        "decoded_text = base_decode(encoded_text, decode_mapping)"
      ],
      "id": "1685ba21",
      "execution_count": null,
      "outputs": []
    },
    {
      "cell_type": "markdown",
      "metadata": {
        "id": "aaZkfEgEEU0r"
      },
      "source": [
        "#Результат:"
      ],
      "id": "aaZkfEgEEU0r"
    },
    {
      "cell_type": "code",
      "metadata": {
        "id": "4fbc8b5e",
        "outputId": "3b095722-9797-4a4c-b553-3fb4ef515f32"
      },
      "source": [
        "print(filtered_text)"
      ],
      "id": "4fbc8b5e",
      "execution_count": null,
      "outputs": [
        {
          "output_type": "stream",
          "text": [
            "она улыбнулась на его похвалу и через его плечо продолжала разглядывать залу она была не вновь выезжающая у которой на бале все лица сливаются в одно волшебное впечатление она и не была затасканная по балам девушка которой все лица бала так знакомы что наскучили но она была на середине этих двух  она была возбуждена а вместе с тем обладала собой настолько что могла наблюдать  \n"
          ],
          "name": "stdout"
        }
      ]
    },
    {
      "cell_type": "code",
      "metadata": {
        "id": "a86d3102",
        "outputId": "50807fa0-5909-4c35-97e8-de132454edcf"
      },
      "source": [
        "print(decoded_text)"
      ],
      "id": "a86d3102",
      "execution_count": null,
      "outputs": [
        {
          "output_type": "stream",
          "text": [
            "ено камлнкаовг но изе ыежтоак р яиьип изе ыаияе ыьедеайоао ьопзачдмтосг поак ено лмао ни тнетг тмипйошцоч к уесеьех но лоаи тви арюо вартошсвч т едне теаэилнеи тыияосаинри ено р ни лмао посовуонноч ые лоаоб диткэуо уесеьех тви арюо лоао соу пноуебм ясе новукярар не ено лмао но виьидрни щсрж дткж  ено лмао теплкйдино о тбивси в сиб елаодоао велех новсеагуе ясе безао нолашдосг  \n"
          ],
          "name": "stdout"
        }
      ]
    },
    {
      "cell_type": "markdown",
      "metadata": {
        "id": "49e124cd"
      },
      "source": [
        "Получилось нечитабельно. Похоже на песню, слова к которой ты не знаешь, но пытаешься петь."
      ],
      "id": "49e124cd"
    },
    {
      "cell_type": "code",
      "metadata": {
        "id": "bfacccca"
      },
      "source": [
        "def accuracy(orig_text, decoded_text):\n",
        "    return sum(np.array(list(orig_text)) == np.array(list(decoded_text))) / len(orig_text)"
      ],
      "id": "bfacccca",
      "execution_count": null,
      "outputs": []
    },
    {
      "cell_type": "code",
      "metadata": {
        "scrolled": true,
        "id": "10da2e3f",
        "outputId": "0d0f3b0e-8717-4b38-a509-28b1a62932d2"
      },
      "source": [
        "print(f'Доля верно расшифрованных символов: {accuracy(filtered_text, decoded_text):.4f}')"
      ],
      "id": "10da2e3f",
      "execution_count": null,
      "outputs": [
        {
          "output_type": "stream",
          "text": [
            "Доля верно расшифрованных символов: 0.2612\n"
          ],
          "name": "stdout"
        }
      ]
    },
    {
      "cell_type": "markdown",
      "metadata": {
        "id": "uyaM2-gyECEw"
      },
      "source": [
        "#2. Расшифровка через биграммы"
      ],
      "id": "uyaM2-gyECEw"
    },
    {
      "cell_type": "markdown",
      "metadata": {
        "id": "YQq-pD-hEGVp"
      },
      "source": [
        "\n",
        "*   подсчитайте частоты биграмм (т.е. пар последовательных букв) по корпусам;\n",
        "*   проведите тестирование аналогично п.1, но при помощи биграмм.\n",
        "\n"
      ],
      "id": "YQq-pD-hEGVp"
    },
    {
      "cell_type": "code",
      "metadata": {
        "id": "fb8d9402"
      },
      "source": [
        "def bigram_freqs(text):\n",
        "    \n",
        "    list_of_bigrams = []\n",
        "    \n",
        "    for i in range(len(text) - 2):\n",
        "        list_of_bigrams.append(text[i:i+2])\n",
        "        \n",
        "    freqs = Counter(list_of_bigrams)\n",
        "    prob = {}\n",
        "    \n",
        "    for k, v in freqs.items():\n",
        "        prob[k] = v / sum(freqs.values())\n",
        "    \n",
        "\n",
        "    freqs = dict(sorted(prob.items(), key=lambda x: x[1], reverse=True))\n",
        "    return freqs\n",
        "\n",
        "def bigram_decode(text, mapping):\n",
        "    UNKNOWN = '?'\n",
        "    decoded_text = [UNKNOWN] * len(text) \n",
        "    for text_bi, orig_bi in mapping.items():\n",
        "        index = text.find(text_bi)\n",
        "        while index != -1:\n",
        "            if decoded_text[index] == UNKNOWN:\n",
        "                decoded_text[index] = orig_bi[0]\n",
        "            if decoded_text[index + 1] == UNKNOWN:\n",
        "                decoded_text[index + 1] = orig_bi[1] \n",
        "            index = text.find(text_bi, index + 1)\n",
        "\n",
        "    return ''.join(decoded_text)"
      ],
      "id": "fb8d9402",
      "execution_count": null,
      "outputs": []
    },
    {
      "cell_type": "code",
      "metadata": {
        "id": "b90950e3"
      },
      "source": [
        "bigram_freqs = bigram_freqs(train_texts)"
      ],
      "id": "b90950e3",
      "execution_count": null,
      "outputs": []
    },
    {
      "cell_type": "code",
      "metadata": {
        "id": "d1e583be"
      },
      "source": [
        "text_bigram_freqs = bigram_freqs(encoded_text)\n",
        "decode_mapping = decoded(bigram_freqs, text_bigram_freqs)\n",
        "\n",
        "decoded_text = bigram_decode(encoded_text, decode_mapping)"
      ],
      "id": "d1e583be",
      "execution_count": null,
      "outputs": []
    },
    {
      "cell_type": "code",
      "metadata": {
        "id": "36b86a2f",
        "outputId": "f53fd25e-54d6-4183-81d6-5152f28d69fe"
      },
      "source": [
        "print(f'Доля верно расшифрованных символов: {accuracy(filtered_text, decoded_text):.4f}')"
      ],
      "id": "36b86a2f",
      "execution_count": null,
      "outputs": [
        {
          "output_type": "stream",
          "text": [
            "Доля верно расшифрованных символов: 0.1557\n"
          ],
          "name": "stdout"
        }
      ]
    },
    {
      "cell_type": "markdown",
      "metadata": {
        "id": "JtFmBvodEb7R"
      },
      "source": [
        "#Результат:"
      ],
      "id": "JtFmBvodEb7R"
    },
    {
      "cell_type": "code",
      "metadata": {
        "id": "8e035e4a",
        "outputId": "cbe195f5-eaa7-4557-ad9e-67367d5393e7"
      },
      "source": [
        "print(decoded_text)"
      ],
      "id": "8e035e4a",
      "execution_count": null,
      "outputs": [
        {
          "output_type": "stream",
          "text": [
            "яио обыот а асеио  р с чео пкаовттьлру р с нир с л      ао ьбслилоеонеста пк оио олао   нвноас выер маннй каго ил неио о п нвм нпоео опоонамэй в о н св  уаоно нвяорненигл ноио ое  нолао аненалели йь  со а т ттододо го ил н вм нпоео о ао риклаи гожи т  еи аловапое  соио олао ио о ьлдяр няееватодви оио олао в уяячеоио о вдрда новезт ота   ао очтенеи а и нг ст  счылао и  зх нестз\n"
          ],
          "name": "stdout"
        }
      ]
    },
    {
      "cell_type": "markdown",
      "metadata": {
        "id": "vSuUctJkEhI8"
      },
      "source": [
        "Результат получился хуже. "
      ],
      "id": "vSuUctJkEhI8"
    },
    {
      "cell_type": "markdown",
      "metadata": {
        "id": "LaBnujmdE3y5"
      },
      "source": [
        "#MCMC-сэмплирование, работающее на статистике биграмм"
      ],
      "id": "LaBnujmdE3y5"
    },
    {
      "cell_type": "code",
      "metadata": {
        "id": "84a0c0cc"
      },
      "source": [
        "n_iter = 20000\n",
        "verbose = 5000\n",
        "alphabet = list(ALPHABET)\n",
        "\n",
        "nan_replacement = 1 / len(ALPHABET) ** 2\n",
        "\n",
        "def loglikelihood(text):\n",
        "    bigram_counts = Counter([''.join(text[i: i + 2]) for i in range(len(text) - 2)])\n",
        "    return np.sum([count * np.log(bigram_freqs.get(bigram, nan_replacement))\n",
        "                    for bigram, count in bigram_counts.items()])\n",
        "\n",
        "def check(cur_llh, new_llh):\n",
        "    if new_llh > cur_llh:\n",
        "        return True\n",
        "    return np.random.rand() < np.exp(new_llh - cur_llh)\n",
        "\n",
        "def decode(text):\n",
        "    best_decoded_text = copy(text)\n",
        "    cur_llh = best_llh = loglikelihood(text)\n",
        "    for iteration in tqdm(range(n_iter)):\n",
        "        copy_text = copy(text)\n",
        "        \n",
        "        letters = np.random.choice(alphabet, 2, replace=False)\n",
        "        for i in range(len(copy_text)):\n",
        "            if copy_text[i] == letters[0]:\n",
        "                copy_text[i] = letters[1]\n",
        "            elif copy_text[i] == letters[1]:\n",
        "                copy_text[i] = letters[0]\n",
        "        \n",
        "        # new_text = _mutate(copy(text))\n",
        "\n",
        "        new_llh = loglikelihood(copy_text)\n",
        "        if check(cur_llh, new_llh):\n",
        "            text = copy_text\n",
        "            cur_llh = new_llh\n",
        "            if cur_llh > best_llh:\n",
        "                best_llh = cur_llh\n",
        "                best_decoded_text = copy(text)\n",
        "\n",
        "    return ''.join(best_decoded_text)"
      ],
      "id": "84a0c0cc",
      "execution_count": null,
      "outputs": []
    },
    {
      "cell_type": "code",
      "metadata": {
        "id": "dc335c57",
        "outputId": "f6cf4b02-10c3-490b-9ff0-341b6943daf9"
      },
      "source": [
        "\n",
        "mcmc = decode(list(encoded_text))"
      ],
      "id": "dc335c57",
      "execution_count": null,
      "outputs": [
        {
          "output_type": "stream",
          "text": [
            "100%|█████████████████████████████████████████████████████████████████████████████████████████████████████████████████████████████████████████████████████████████████████████████████████████████| 20000/20000 [00:16<00:00, 1215.16it/s]\n"
          ],
          "name": "stderr"
        }
      ]
    },
    {
      "cell_type": "code",
      "metadata": {
        "id": "03c31c89",
        "outputId": "eaf36676-ecad-48e6-ece9-8f1b32c20786"
      },
      "source": [
        "print(mcmc)"
      ],
      "id": "03c31c89",
      "execution_count": null,
      "outputs": [
        {
          "output_type": "stream",
          "text": [
            "она улыбнулась на его похвалу и через его плечо продолёала разглядывать залу она была не вновь выезёаъшая у которой на бале все лица сливаътся в одно волжебное впечатление она и не была затасканная по балам девужка которой все лица бала так знакомы что наскучили но она была на середине этих двух  она была возбуёдена а вместе с тем обладала собой настолько что могла наблъдать  \n"
          ],
          "name": "stdout"
        }
      ]
    },
    {
      "cell_type": "markdown",
      "metadata": {
        "id": "l96eJoauFO4E"
      },
      "source": [
        "Практически идеально. По крайней мере легко читается"
      ],
      "id": "l96eJoauFO4E"
    },
    {
      "cell_type": "markdown",
      "metadata": {
        "id": "SXbQm8h4FZsS"
      },
      "source": [
        "#4. Расшифровка сообщения"
      ],
      "id": "SXbQm8h4FZsS"
    },
    {
      "cell_type": "code",
      "metadata": {
        "id": "f8b592fb"
      },
      "source": [
        "to_decode = \"←⇠⇒↟↹↷⇊↹↷↟↤↟↨←↹↝⇛⇯↳⇴⇒⇈↝⇊↾↹↟⇒↟↹⇷⇛⇞↨↟↹↝⇛⇯↳⇴⇒⇈↝⇊↾↹↨←⇌⇠↨↹⇙↹⇸↨⇛↙⇛↹⇠⇛⇛↲⇆←↝↟↞↹⇌⇛↨⇛⇯⇊↾↹⇒←↙⇌⇛↹⇷⇯⇛⇞↟↨⇴↨⇈↹⇠⇌⇛⇯←←↹↷⇠←↙⇛↹↷⇊↹↷⇠←↹⇠↤←⇒⇴⇒↟↹⇷⇯⇴↷↟⇒⇈↝⇛↹↟↹⇷⇛⇒⇙⇞↟↨←↹↳⇴⇌⇠↟↳⇴⇒⇈↝⇊↾↹↲⇴⇒⇒↹⇰⇴↹⇷⇛⇠⇒←↤↝←←↹⇞←↨↷←⇯↨⇛←↹⇰⇴↤⇴↝↟←↹⇌⇙⇯⇠⇴↹↘⇛↨↞↹⇌⇛↝←⇞↝⇛↹↞↹↝↟⇞←↙⇛↹↝←↹⇛↲←⇆⇴⇏\""
      ],
      "id": "f8b592fb",
      "execution_count": null,
      "outputs": []
    },
    {
      "cell_type": "code",
      "metadata": {
        "id": "c4a6edae"
      },
      "source": [
        "to_decode_unigram_freqs = base_freqs(to_decode)\n",
        "to_decode_mapping = decoded(unigram_freqs, to_decode_unigram_freqs)\n",
        "to_decode_text = base_decode(to_decode, to_decode_mapping)"
      ],
      "id": "c4a6edae",
      "execution_count": null,
      "outputs": []
    },
    {
      "cell_type": "code",
      "metadata": {
        "id": "929f20a1",
        "outputId": "d1187018-de1b-4fe1-b319-d7cdcd1c5b33"
      },
      "source": [
        "print(to_decode_text)"
      ],
      "id": "929f20a1",
      "execution_count": null,
      "outputs": [
        {
          "output_type": "stream",
          "text": [
            "олна рд раяасо иевьтнуидг ана пемса иевьтнуидг соклс б шсеые леезжоиач кесевдг ноыке пвемастсу лкевоо рлоые рд рло ляонтна пвтрануие а пенбмасо ьтклаьтнуидг зтнн йт пелнояиоо мосровсео йтятиао кбвлт хесч кеиомие ч иамоые ио езожтю\n"
          ],
          "name": "stdout"
        }
      ]
    },
    {
      "cell_type": "code",
      "metadata": {
        "id": "a6846377",
        "outputId": "dad10f24-691f-4f9d-e2ff-c0a4325f4566"
      },
      "source": [
        "mcmc = decode(list(to_decode_text))"
      ],
      "id": "a6846377",
      "execution_count": null,
      "outputs": [
        {
          "output_type": "stream",
          "text": [
            "100%|█████████████████████████████████████████████████████████████████████████████████████████████████████████████████████████████████████████████████████████████████████████████████████████████| 20000/20000 [00:10<00:00, 1826.57it/s]\n"
          ],
          "name": "stderr"
        }
      ]
    },
    {
      "cell_type": "code",
      "metadata": {
        "id": "a7310d17",
        "outputId": "22d97f9d-2fd6-4fa5-8be7-a26b03b678e0"
      },
      "source": [
        "print(mcmc)"
      ],
      "id": "a7310d17",
      "execution_count": null,
      "outputs": [
        {
          "output_type": "stream",
          "text": [
            "если вы вимите нордальный или почти нордальный текст у этого соожшения который легко прочитать скорее всего вы все смелали правильно и получите даксидальный жалл за послемнее четвертое замание курса ботя конечно я ничего не ожешаю\n"
          ],
          "name": "stdout"
        }
      ]
    },
    {
      "cell_type": "markdown",
      "metadata": {
        "id": "FcFdrJwDLArV"
      },
      "source": [
        "Достаточно понятный текст, по крайне мере смысл понятен на 100%))"
      ],
      "id": "FcFdrJwDLArV"
    },
    {
      "cell_type": "markdown",
      "metadata": {
        "id": "0ReuS3tdITod"
      },
      "source": [
        "#6. БОНУС"
      ],
      "id": "0ReuS3tdITod"
    },
    {
      "cell_type": "markdown",
      "metadata": {
        "id": "ee5wVl4RGSHn"
      },
      "source": [
        "Я сразу вспомнил Юрия Кнорозова, который смог расшифровать письменность Майа. Т.е. этот метод определенно подходит для расшифровки древних языков.\n",
        "Возможно подобный метод еще подойдет и для расшифровки молекулярных цепочек, так как молекулы формируются по вполне четким и формазиуемым правилам."
      ],
      "id": "ee5wVl4RGSHn"
    },
    {
      "cell_type": "code",
      "metadata": {
        "id": "35ff0325"
      },
      "source": [
        ""
      ],
      "id": "35ff0325",
      "execution_count": null,
      "outputs": []
    }
  ]
}